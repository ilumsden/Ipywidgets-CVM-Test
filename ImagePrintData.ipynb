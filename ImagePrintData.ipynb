{
 "cells": [
  {
   "cell_type": "code",
   "execution_count": 1,
   "metadata": {
    "collapsed": true
   },
   "outputs": [],
   "source": [
    "import numpy as np\n",
    "import PIL.Image, base64\n",
    "from cStringIO import StringIO\n",
    "import traitlets, ipywidgets as ipyw"
   ]
  },
  {
   "cell_type": "code",
   "execution_count": 2,
   "metadata": {
    "collapsed": true
   },
   "outputs": [],
   "source": [
    "yg,xg = np.mgrid[1:80, 1:120]\n",
    "x0,y0=60., 40.\n",
    "sigma = 10.\n",
    "data = np.exp(-((xg-x0)**2+(yg-y0)**2)/2/sigma**2)\n",
    "data = (data*255.).astype('uint8')"
   ]
  },
  {
   "cell_type": "code",
   "execution_count": 3,
   "metadata": {
    "collapsed": true
   },
   "outputs": [],
   "source": [
    "f = StringIO()\n",
    "PIL.Image.fromarray(data).save(f, 'png')\n",
    "imgb64v = base64.b64encode(f.getvalue())"
   ]
  },
  {
   "cell_type": "code",
   "execution_count": 4,
   "metadata": {},
   "outputs": [],
   "source": [
    "class MyImage(ipyw.DOMWidget):\n",
    "    _view_name = traitlets.Unicode('MyImageView').tag(sync=True)\n",
    "    _view_module = traitlets.Unicode('myimage').tag(sync=True)\n",
    "\n",
    "    _b64value = traitlets.Unicode().tag(sync=True)\n",
    "    _offsetX = traitlets.Int(0).tag(sync=True)\n",
    "    _offsetY = traitlets.Int(0).tag(sync=True)\n",
    "    _pixelValue = traitlets.Float().tag(sync=True)\n",
    "    \n",
    "    @traitlets.observe('_offsetX', '_offsetY')\n",
    "    def offset_change(self, change):\n",
    "        # print(change['name'], change['new'])\n",
    "        # print self._offsetX, self._offsetY\n",
    "        x = int(1.*self._offsetX/360*120)\n",
    "        y = int(1.*self._offsetY/240*80)\n",
    "        if x >= data.shape[1]: x = data.shape[1]-1\n",
    "        if y >= data.shape[0]: y = data.shape[0]-1\n",
    "        self._pixelValue = float(data[y, x])\n",
    "        return"
   ]
  },
  {
   "cell_type": "code",
   "execution_count": 5,
   "metadata": {
    "collapsed": true
   },
   "outputs": [],
   "source": [
    "# hard-code width height for now\n",
    "width = 360\n",
    "height = 240"
   ]
  },
  {
   "cell_type": "code",
   "execution_count": 6,
   "metadata": {},
   "outputs": [
    {
     "data": {
      "application/javascript": [
       "require.undef('myimage');\n",
       "\n",
       "define('myimage', [\"jupyter-js-widgets\"], function(widgets) {\n",
       "\n",
       "    var MyImageView = widgets.DOMWidgetView.extend({\n",
       "\n",
       "        render: function() {\n",
       "            //console.log(this.$el);\n",
       "            var image_src = 'data:image/' + this.model.get('format') + ';base64,' + this.model.get('_b64value');\n",
       "            var img = $('<img>');\n",
       "            img.attr('src', image_src);\n",
       "            img.attr('width', '360px'); img.attr('height', '240px');\n",
       "            this.$el.append(img);\n",
       "            //console.log(\"ok\");\n",
       "            // elements for displayying offsets\n",
       "            var offsetx = $('<span>'); offsetx.addClass('img-offsetx'); this.$el.append(offsetx);\n",
       "            //console.log(\"ok\");\n",
       "            this.$el.append(',&nbsp;')\n",
       "            var offsety = $('<span>'); offsety.addClass('img-offsety'); this.$el.append(offsety);\n",
       "            this.$el.append(':&nbsp;')\n",
       "            // element for pixel value\n",
       "            var val = $('<span>'); val.addClass('img-val'); this.$el.append(val);\n",
       "            // need by event handler\n",
       "            var widget = this;\n",
       "            img.mousemove(function(event){\n",
       "                // console.log(event);\n",
       "                widget.model.set('_offsetX', event.offsetX); \n",
       "                //console.log(widget.model.get('_offsetX'));\n",
       "                widget.model.set('_offsetY', event.offsetY);\n",
       "                //widget.model.save_changes();\n",
       "                widget.touch();\n",
       "                offsetx.text(Math.floor(event.offsetX*1./360*120)); \n",
       "                offsety.text(Math.floor(event.offsetY*1./240*80));\n",
       "                //console.log(widget.model.get('_offsetY'));\n",
       "            });\n",
       "            \n",
       "            this.model.on('change:_pixelValue', this.on_pixelvalue_change, this);\n",
       "        },\n",
       "\n",
       "        on_pixelvalue_change: function(){\n",
       "            this.$el.children('.img-val').text(this.model.get('_pixelValue'));\n",
       "        },\n",
       "    });\n",
       "\n",
       "    return {\n",
       "        MyImageView : MyImageView\n",
       "    };\n",
       "});\n"
      ],
      "text/plain": [
       "<IPython.core.display.Javascript object>"
      ]
     },
     "metadata": {},
     "output_type": "display_data"
    }
   ],
   "source": [
    "%%javascript\n",
    "require.undef('myimage');\n",
    "\n",
    "define('myimage', [\"jupyter-js-widgets\"], function(widgets) {\n",
    "\n",
    "    var MyImageView = widgets.DOMWidgetView.extend({\n",
    "\n",
    "        render: function() {\n",
    "            //console.log(this.$el);\n",
    "            var image_src = 'data:image/' + this.model.get('format') + ';base64,' + this.model.get('_b64value');\n",
    "            var img = $('<img>');\n",
    "            img.attr('src', image_src);\n",
    "            img.attr('width', '360px'); img.attr('height', '240px');\n",
    "            this.$el.append(img);\n",
    "            //console.log(\"ok\");\n",
    "            // elements for displayying offsets\n",
    "            var offsetx = $('<span>'); offsetx.addClass('img-offsetx'); this.$el.append(offsetx);\n",
    "            //console.log(\"ok\");\n",
    "            this.$el.append(',&nbsp;')\n",
    "            var offsety = $('<span>'); offsety.addClass('img-offsety'); this.$el.append(offsety);\n",
    "            this.$el.append(':&nbsp;')\n",
    "            // element for pixel value\n",
    "            var val = $('<span>'); val.addClass('img-val'); this.$el.append(val);\n",
    "            // handle mouse move\n",
    "            var widget = this;\n",
    "            img.mousemove(function(event){\n",
    "                // console.log(event);\n",
    "                widget.model.set('_offsetX', event.offsetX); \n",
    "                //console.log(widget.model.get('_offsetX'));\n",
    "                widget.model.set('_offsetY', event.offsetY);\n",
    "                //widget.model.save_changes();\n",
    "                widget.touch();\n",
    "                offsetx.text(Math.floor(event.offsetX*1./360*120)); \n",
    "                offsety.text(Math.floor(event.offsetY*1./240*80));\n",
    "                //console.log(widget.model.get('_offsetY'));\n",
    "            });\n",
    "            \n",
    "            this.model.on('change:_pixelValue', this.on_pixelvalue_change, this);\n",
    "        },\n",
    "\n",
    "        on_pixelvalue_change: function(){\n",
    "            this.$el.children('.img-val').text(this.model.get('_pixelValue'));\n",
    "        },\n",
    "    });\n",
    "\n",
    "    return {\n",
    "        MyImageView : MyImageView\n",
    "    };\n",
    "});\n",
    "\n"
   ]
  },
  {
   "cell_type": "code",
   "execution_count": 7,
   "metadata": {},
   "outputs": [
    {
     "data": {
      "application/vnd.jupyter.widget-view+json": {
       "model_id": "3f92f968f42c4eb68ec5bb903231b136"
      }
     },
     "metadata": {},
     "output_type": "display_data"
    }
   ],
   "source": [
    "w = MyImage()\n",
    "w._b64value = imgb64v\n",
    "w"
   ]
  },
  {
   "cell_type": "code",
   "execution_count": null,
   "metadata": {
    "collapsed": true
   },
   "outputs": [],
   "source": []
  }
 ],
 "metadata": {
  "kernelspec": {
   "display_name": "py2",
   "language": "python",
   "name": "py2"
  },
  "language_info": {
   "codemirror_mode": {
    "name": "ipython",
    "version": 2
   },
   "file_extension": ".py",
   "mimetype": "text/x-python",
   "name": "python",
   "nbconvert_exporter": "python",
   "pygments_lexer": "ipython2",
   "version": "2.7.12"
  }
 },
 "nbformat": 4,
 "nbformat_minor": 2
}
