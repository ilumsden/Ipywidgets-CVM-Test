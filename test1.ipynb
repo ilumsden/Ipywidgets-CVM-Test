{
 "cells": [
  {
   "cell_type": "code",
   "execution_count": 1,
   "metadata": {},
   "outputs": [],
   "source": [
    "import ipywidgets as ipyw\n",
    "from traitlets import Unicode, Int\n",
    "\n",
    "class Counter(ipyw.DOMWidget):\n",
    "    _view_name = Unicode(\"CountView\").tag(sync=True)\n",
    "    _view_module = Unicode(\"count\").tag(sync=True)\n",
    "    value = Int().tag(sync=True)\n",
    "    def inc():\n",
    "        value += 1"
   ]
  },
  {
   "cell_type": "code",
   "execution_count": 2,
   "metadata": {},
   "outputs": [
    {
     "data": {
      "application/javascript": [
       "require.undef(\"count\");\n",
       "\n",
       "define(\"count\", [\"jupyter-js-widgets\"], function(widgets) {\n",
       "    var CountView = widgets.DOMWidgetView.extend({\n",
       "        render: function() {\n",
       "            CountView.__super__.render.apply(this, arguments);\n",
       "            this.count_changed();\n",
       "            this.listenTo(this.model, \"change:count\", this.count_changed, this);\n",
       "        },\n",
       "        count_changed: function() {\n",
       "            var old = this.model.previous(\"value\");\n",
       "            var current = this.model.get(\"value\");\n",
       "            this.el.textContent = String(old) + \" -> \" + String(current); \n",
       "        }\n",
       "    });\n",
       "    return{\n",
       "        CountView : CountView\n",
       "    }\n",
       "});"
      ],
      "text/plain": [
       "<IPython.core.display.Javascript object>"
      ]
     },
     "metadata": {},
     "output_type": "display_data"
    }
   ],
   "source": [
    "%%javascript\n",
    "require.undef(\"count\");\n",
    "\n",
    "define(\"count\", [\"jupyter-js-widgets\"], function(widgets) {\n",
    "    var CountView = widgets.DOMWidgetView.extend({\n",
    "        render: function() {\n",
    "            CountView.__super__.render.apply(this, arguments);\n",
    "            this.count_changed();\n",
    "            this.listenTo(this.model, \"change:count\", this.count_changed, this);\n",
    "        },\n",
    "        count_changed: function() {\n",
    "            var old = this.model.previous(\"value\");\n",
    "            var current = this.model.get(\"\n",
    "            this.el.textContent = String(old) + \" -> \" + String(current); \n",
    "        }\n",
    "    });\n",
    "    return{\n",
    "        CountView : CountView\n",
    "    }\n",
    "});"
   ]
  },
  {
   "cell_type": "code",
   "execution_count": 3,
   "metadata": {},
   "outputs": [
    {
     "data": {
      "application/vnd.jupyter.widget-view+json": {
       "model_id": "9f7f9eed3f75410c98a05243d66bcdf9"
      }
     },
     "metadata": {},
     "output_type": "display_data"
    }
   ],
   "source": [
    "w = Counter()\n",
    "w"
   ]
  },
  {
   "cell_type": "code",
   "execution_count": null,
   "metadata": {
    "collapsed": true
   },
   "outputs": [],
   "source": []
  }
 ],
 "metadata": {
  "kernelspec": {
   "display_name": "Python 2",
   "language": "python",
   "name": "python2"
  },
  "language_info": {
   "codemirror_mode": {
    "name": "ipython",
    "version": 2
   },
   "file_extension": ".py",
   "mimetype": "text/x-python",
   "name": "python",
   "nbconvert_exporter": "python",
   "pygments_lexer": "ipython2",
   "version": "2.7.13"
  }
 },
 "nbformat": 4,
 "nbformat_minor": 2
}
